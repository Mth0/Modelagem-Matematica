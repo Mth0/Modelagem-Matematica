{
  "nbformat": 4,
  "nbformat_minor": 0,
  "metadata": {
    "colab": {
      "provenance": []
    },
    "kernelspec": {
      "name": "python3",
      "display_name": "Python 3"
    },
    "language_info": {
      "name": "python"
    }
  },
  "cells": [
    {
      "cell_type": "markdown",
      "source": [
        "Matheus do Ó Santos Tiburcio"
      ],
      "metadata": {
        "id": "6ydPmQZeYf1q"
      }
    },
    {
      "cell_type": "code",
      "source": [
        "import math\n",
        "import numpy as np\n",
        "import matplotlib.pyplot as plt\n",
        "import scipy as sci"
      ],
      "metadata": {
        "id": "pydGB9MCCt4q"
      },
      "execution_count": null,
      "outputs": []
    },
    {
      "cell_type": "markdown",
      "source": [
        "# Prática 4 - Resoluções de alguns problemas de modelagem"
      ],
      "metadata": {
        "id": "E2D5O__iifCh"
      }
    },
    {
      "cell_type": "markdown",
      "source": [
        "### Nesse colab vou resolver alguns problemas de modelagem que foram dados, baseando-me no que foi dado em sala de aula"
      ],
      "metadata": {
        "id": "sXgiL8Dsik9B"
      }
    },
    {
      "cell_type": "markdown",
      "source": [
        "## Problema 1:\n",
        "\n",
        "### Qual deve ser o ganho anual se alguém quiser dobrar seu dinheiro em sete anos?\n",
        "\n",
        "Nesse problema podemos definir uma função $N(t)$ que basicamente nos dirá quanto de dinheiro teremos no ano t.\n",
        "\n",
        "Adicional a isso, temos a informação que queremos <b>dobrar</b> nosso dinheiro. Portanto queremos que:\n",
        "\n",
        "$N(t) = 2*N(0)$, nesse contexto, $t = 7$.\n",
        "\n",
        "Podemos modelar nosso problema com uma função exponencial, deste modo:\n",
        "\n",
        "###$\\frac{dN}{dt} = kN(t)$\n",
        "###$\\frac{\\frac{dN}{dt}}{N(t)} = k$\n",
        "\n",
        "Construindo desse modo temos que a derivada de $N(t)$ em t dividida por $N(t)$ é igual a uma constante. O que faz sentido, já que escolhemos modelar esse problema com uma função exponencial. Podemos dizer então que $N(t)$:\n",
        "\n",
        "###$N(t) = ke^{rt}$\n",
        "\n",
        "Onde não conhecemos $r$.\n",
        "\n",
        "Restas decidirmos sobre $k$. Podemos tratar $k$ como o dinheiro inicial que tinhamos no instante t = 0, logo $k = N(0) = N_{0}$ e desse modo determinar $r$ que faria com que nosso N dobrasse depois de 7 anos:\n",
        "\n",
        "###$2N_{0} = N_{0}e^{7r}$\n",
        "###$\\frac{2N_{0}}{N_{0}} = e^{7r}$\n",
        "###$\\ln(\\frac{2N_{0}}{N_{0}}) = 7r$\n",
        "###$\\frac{\\ln(2)}{7} = r$\n",
        "\n",
        "De modo mais geral: Se queremos um dinheiro $n$ vezes maior que $N(0)$ em $t$ anos, então podemos achar trocando 7 por $t$ e 2 por $n$ na equação acima:\n",
        "\n",
        "###$\\frac{\\ln(n)}{t} = r$\n",
        "\n",
        "Em nosso problema temos $N(t)$ igual:\n",
        "\n",
        "###$N(t) = N_{0}e^{\\frac{\\ln(2)}{7}t}$"
      ],
      "metadata": {
        "id": "42heqRwUiu7p"
      }
    },
    {
      "cell_type": "code",
      "execution_count": null,
      "metadata": {
        "id": "y_93_5d7AbAW"
      },
      "outputs": [],
      "source": [
        "def problema1(n0, q, t):\n",
        "  #N(0) = n0\n",
        "  #N(t) = n0*e^(r*t)\n",
        "  #r = ganho anual, t = número de anos, N(t) = dinheiro atual no tempo t\n",
        "  r = math.log(q)/t\n",
        "  return r"
      ]
    },
    {
      "cell_type": "markdown",
      "source": [
        "### Testes"
      ],
      "metadata": {
        "id": "MSrbitSKB1r5"
      }
    },
    {
      "cell_type": "code",
      "source": [
        "n0 = 1000 #renda inicial\n",
        "m = 2 #o quanto quero multiplicar a renda\n",
        "t = 7 #tempo em anos\n",
        "\n",
        "tx = problema1(n0, m, t)\n",
        "print(f\"Taxa de renda necessária para ter {m}.n0 em {t} anos: {round(tx, 2)}\")"
      ],
      "metadata": {
        "colab": {
          "base_uri": "https://localhost:8080/"
        },
        "id": "LNPZh4AYBpm5",
        "outputId": "152e38ad-9b46-45b1-f4d3-0858247ebe90"
      },
      "execution_count": null,
      "outputs": [
        {
          "output_type": "stream",
          "name": "stdout",
          "text": [
            "Taxa de renda necessária para ter 2.n0 em 7 anos: 0.1\n"
          ]
        }
      ]
    },
    {
      "cell_type": "markdown",
      "source": [
        "## Problema 2:\n",
        "\n",
        "### População de besouros\n",
        "\n",
        "Esse problema quer que, dada a população inicial, o número de besouros que nasceram e que morreram no mês inicial(\"mês 0\"), montemos uma função que modele bem o crescimento desta população de besouros.\n",
        "\n",
        "Funções exponenciais tendem a modelar bem problemas como esse também e, assim como no problema 1, usaremos uma.\n",
        "\n",
        "A questão é que nosso $k$ aqui será obtido de um modo diferente. Para isso, usaremos $b$ para representar a taxa de nascimento de novos besouros e $d$ a taxa de morte dos besouros no mês inicial:\n",
        "\n",
        "$b = \\frac{n}{p},$<br/>\n",
        "$d = \\frac{m}{p}$, onde:\n",
        "\n",
        "n: número de besouros que nasceram no mês inicial<br/>\n",
        "d: número de besouros que morreram no mês inicial<br/>\n",
        "p: população de besouros no mês inicial<br/>\n",
        "\n",
        "e $k$ será $b - d$ e poderíamos lê-lo como \"a taxa de besouros restantes\".\n",
        "\n",
        "Desse modo, adotando crescimento exponencial, teríamos então:\n",
        "\n",
        "###$\\frac{\\frac{dP(t)}{dt}}{P(t)} = P_{0}$\n",
        "###$P(t) = P_{0}e^{kt}$\n",
        "\n",
        "*$P_{0}$ aqui faria papel de constante $k$ em $f(t) = re^{kt}$. O que faz sentindo, já que $P_{0}$ não se alteraria uma vez definido. Também segue que $P(0) = ke^{r.0} = k.1 = k$\n",
        "\n",
        "###Onde:\n",
        "\n",
        "$t$: mês t<br/>\n",
        "$P(t)$: população no mês t<br/>\n",
        "$P(0) = P_{0}$: população inicial de besouros\n",
        "\n",
        "Na questão:\n",
        "\n",
        "$P_{0} = 3000$<br/>\n",
        "$b = \\frac{400}{3000} = \\frac{2}{15}$<br/>\n",
        "$d = \\frac{150}{3000} = \\frac{1}{20}$<br/>\n",
        "$k = b - d ≈ 0.08333$\n",
        "\n",
        "$P(t) ≈ P_{0}e^{0.8333t}$"
      ],
      "metadata": {
        "id": "rUKE91N5oNVg"
      }
    },
    {
      "cell_type": "code",
      "source": [
        "def problema2(totalInicial, nasc, morte, meses):\n",
        "  #k = b-d\n",
        "  b = nasc/totalInicial\n",
        "  d = morte/totalInicial\n",
        "  k = b - d\n",
        "  #print(k)\n",
        "  #populacao = totalInicial\n",
        "  p0 = totalInicial*math.exp(1)\n",
        "\n",
        "  #for i in range(meses):\n",
        "    #populacao += populacao*k\n",
        "    #print(populacao)\n",
        "\n",
        "  return p0*math.exp(k*meses)"
      ],
      "metadata": {
        "id": "soghJ2txn6PQ"
      },
      "execution_count": null,
      "outputs": []
    },
    {
      "cell_type": "markdown",
      "source": [
        "### Testes"
      ],
      "metadata": {
        "id": "MATlGbFtB5Ro"
      }
    },
    {
      "cell_type": "code",
      "source": [
        "popIni = 3000 #população inicial\n",
        "nasc = 400 #quantos novos nascem mensalmente\n",
        "morte = 150 #quantos morrem mensalmente\n",
        "t = 6 #tempo em meses\n",
        "\n",
        "pop = problema2(popIni, nasc, morte, t)\n",
        "print(f\"população após {t} meses: {round(pop, 2)}\")"
      ],
      "metadata": {
        "colab": {
          "base_uri": "https://localhost:8080/"
        },
        "id": "e3fZ7xxPDYi6",
        "outputId": "dad33edc-ebfb-4c6c-fc18-bd138bad7530"
      },
      "execution_count": null,
      "outputs": [
        {
          "output_type": "stream",
          "name": "stdout",
          "text": [
            "população após 6 meses: 13445.07\n"
          ]
        }
      ]
    },
    {
      "cell_type": "markdown",
      "source": [
        "## Problema 4:\n",
        "\n",
        "### Algas marinhas\n",
        "\n",
        "Nesse problema é pedido que considere crescimento exponencial, então da para concluir que a solução dele será uma equação com a cara\n",
        "\n",
        "$P(t) = ke^{rt}$, onde: <br>\n",
        "$t$: dia, <br>\n",
        "$k$: uma constante, nesse caso seria $P(0)$.\n",
        "\n",
        "Desse modo nos é pedido que calculemos a taxa de crescimento dessa população, nesse caso seria o $r$.\n",
        "\n",
        "Por ser exponencial sabemos que $P'(t) = rke^{rt}$, então:\n",
        "\n",
        "### $\\frac{\\frac{dP(t)}{dt}}{P(t)} = k$\n",
        "\n",
        "Nessa caso a constante seria a população inicial do problema, já que $P(0) = ke^{r0} = k.1 = k$.\n",
        "\n",
        "Além disso sabemos que $P(0) = 10^{5}$ e $P(10) = 5.10^{5}$. Portanto, por termos uma condição inicial, podemos achar r:\n",
        "\n",
        "$P(10) = 5.10^{5} = P_{0}e^{10r} = 10^{5}e^{10r}$<br/>\n",
        "$5.\\frac{10^{5}}{10^{5}} = e^{10r}, ln(5) = ln(e^{10r})$<br/>\n",
        "$ln(5) = 10r$,\n",
        "\n",
        "logo:\n",
        "\n",
        "$r = \\frac{ln(5)}{10}$\n",
        "\n",
        "Finalmente:\n",
        "\n",
        "###$P(t) = P_{0}e^{\\frac{ln5}{10}t}$\n",
        "\n",
        "### Na questão:\n",
        "\n",
        "$P_{0} = 10^{5}$<br/>\n",
        "$t = 10$<br/>\n",
        "$ln(5) ≈ 1,6094$<br/>\n",
        "$P(t) ≈ 10^5.e^{1,6094t}$<br/>"
      ],
      "metadata": {
        "id": "zkoK-U2jdAU1"
      }
    },
    {
      "cell_type": "code",
      "source": [
        "def problema4(n0, d, tp, p):\n",
        "  k = math.log(p/n0)/tp\n",
        "  return n0*math.exp(k*d)"
      ],
      "metadata": {
        "id": "hfgEyBlSsdRe"
      },
      "execution_count": null,
      "outputs": []
    },
    {
      "cell_type": "markdown",
      "source": [
        "### Testes"
      ],
      "metadata": {
        "id": "46353zt4CD9B"
      }
    },
    {
      "cell_type": "code",
      "source": [
        "n0 = 100000 #população inicial\n",
        "d = 10 #dia em que quero saber a população\n",
        "tp = 10 #dia do parametro dado\n",
        "p = 500000 #valor da populacao sabido em um dia em especifico p = N(tp)\n",
        "\n",
        "pop = problema4(n0, d, tp, p)\n",
        "print(f\"população no dia {d}: {round(pop, 2)}\")"
      ],
      "metadata": {
        "id": "d7LkjkPVFRC-",
        "colab": {
          "base_uri": "https://localhost:8080/"
        },
        "outputId": "21289391-03bb-4253-e610-e0da257ac4a2"
      },
      "execution_count": null,
      "outputs": [
        {
          "output_type": "stream",
          "name": "stdout",
          "text": [
            "população no dia 10: 500000.0\n"
          ]
        }
      ]
    },
    {
      "cell_type": "markdown",
      "source": [
        "## Problema 5\n",
        "\n",
        "###Glóbulos vermelhos\n",
        "\n",
        "Vamos supor crescimento exponencial novamente. Logo:\n",
        "\n",
        "### $P(t) = re^{kt}$\n",
        "\n",
        "Com as ideias discutidas noutros problemas anteriores, teremos:\n",
        "\n",
        "$P(t) = P_{0}e^{kt}$\n",
        "\n",
        "Aqui consideraremos k como uma \"taxa de sobrivência\", sendo então:\n",
        "\n",
        "$k = \\frac{m-d}{P_{0}}$, com:\n",
        "\n",
        "$P_{0} = P(0)$ = População inicial<br/>\n",
        "$m$ = taxa de produção de células por dia<br/>\n",
        "$d$ = taxa de mortalidade de células por dia<br/>\n",
        "\n",
        "Logo:\n",
        "\n",
        "### $P(t) = P_{0}e^{\\frac{m-d}{P_{0}}t}$\n",
        "\n",
        "Como não temos mais informações, pararemos aqui. No código abaixo implementei isso e nos testes pode por dados diferentes para analisar o comportamento."
      ],
      "metadata": {
        "id": "dquHqPFuqfQC"
      }
    },
    {
      "cell_type": "code",
      "source": [
        "def problema5(m, d, t, popIni):\n",
        "  k = (m - d)/popIni\n",
        "  return popIni*math.exp(k*t + 1)"
      ],
      "metadata": {
        "id": "NVTknDzQjh-j"
      },
      "execution_count": null,
      "outputs": []
    },
    {
      "cell_type": "markdown",
      "source": [
        "## Testes"
      ],
      "metadata": {
        "id": "U3EKM5bJCFno"
      }
    },
    {
      "cell_type": "code",
      "source": [
        "m = 100\n",
        "d = 150\n",
        "t = 10\n",
        "popIni = 1000\n",
        "pop = problema5(m, d, t, popIni)\n",
        "\n",
        "print(f\"população no dia {t}: {round(pop, 2)}\")"
      ],
      "metadata": {
        "colab": {
          "base_uri": "https://localhost:8080/"
        },
        "id": "ZFh_20TFnJ2c",
        "outputId": "e34e25c6-f375-4c0c-f989-c602dfa85009"
      },
      "execution_count": null,
      "outputs": [
        {
          "output_type": "stream",
          "name": "stdout",
          "text": [
            "população no dia 10: 1648.72\n"
          ]
        }
      ]
    },
    {
      "cell_type": "markdown",
      "source": [
        "## Problema 6\n",
        "\n",
        "###Bactérias e Neutrófilos\n",
        "\n",
        "Nesse problema é pedido para calcular o tempo para as bactérias se duplicarem com a ausência de neutrófilos e, posteriormente a isso, considerar os neutrófilos e calcular o número de bactérias para algum tempo t. É dado que:\n",
        "\n",
        "$\\frac{dB}{dt} = rB - kNB$, onde:\n",
        "\n",
        "$B$ = número de bactérias em um tempo t <br/>\n",
        "$N$ = número de neutrófilos <br/>\n",
        "$r$ = taxa bruta de bactérias por hora<br/>\n",
        "\n",
        "Como $N = 0$:\n",
        "\n",
        "$\\frac{dB}{dt} = rB$\n",
        "\n",
        "Com um racicínio parecido às questões anteriores, vou considerar $k_{1} = B(0) = B_{0}$.\n",
        "\n",
        "Assumindo crescimento exponencial:\n",
        "\n",
        "$B(t) = k_{1}e^{rt} = B_{0}e^{rt}$, e é pedido para dobrar o número inicial de bactéria, então:\n",
        "\n",
        "$2B_{0} = B_{0}e^{rT} => ln(2) = rT => r = \\frac{ln2}{T}$\n",
        "\n",
        "T: tempo em que dobra\n",
        "\n",
        "Portanto, com $N = 0$:\n",
        "\n",
        "$B(t) = B_{0}e^{\\frac{ln2}{T}t}$\n",
        "\n",
        "###Para $N$ diferente de 0:\n",
        "\n",
        "$B(t) = B_{0}e^{\\frac{ln2}{T}t} - k'B_{0}e^{\\frac{ln2}{T}t}$<br/>\n",
        "\n",
        "Sabemos que a derivada de $B(t)$ é $rB$, mas na derivada mostrada no problema o termo $r$ não existe em $kNB$, portanto, tratarei $k' = \\frac{k}{r}$\n",
        "\n",
        "Como $B(0) = B_{0}$, então:\n",
        "\n",
        "$B(0) = B_{0}.1 - \\frac{k}{r}NB_{0}.1 = B_{0}(1 - \\frac{k}{r}N)$\n",
        "\n",
        "$1 - \\frac{k}{r}N = 1 => \\frac{k}{r}N = 0$\n",
        "\n",
        "<br/>\n",
        "\n",
        "Pessoalmente creio que tenha interpretado algo errado nesse fim, pois a última linha implicaria que $k = 0$ já que supus no início que $N$ é diferente de 0 e $r = 0$ resultaria em divisão por zero...."
      ],
      "metadata": {
        "id": "YXBevMu_e6jE"
      }
    },
    {
      "cell_type": "code",
      "source": [
        "def problema6(b0, T, t):\n",
        "  r = math.log(2)/T\n",
        "  return b0*math.exp(r*t)"
      ],
      "metadata": {
        "id": "N6LJepSXhksH"
      },
      "execution_count": null,
      "outputs": []
    },
    {
      "cell_type": "markdown",
      "source": [
        "## Testes"
      ],
      "metadata": {
        "id": "vWT2kBc-iLVv"
      }
    },
    {
      "cell_type": "code",
      "source": [
        "b0 = 5000\n",
        "T = 2\n",
        "t = 10\n",
        "\n",
        "b = problema6(b0, T, t)\n",
        "\n",
        "print(f\"A população de bactérias no dia {t} é de {b}\")"
      ],
      "metadata": {
        "colab": {
          "base_uri": "https://localhost:8080/"
        },
        "id": "6bKu0sH8h9i-",
        "outputId": "f00aa3cc-4466-4dab-fc24-7fe1f6034a8c"
      },
      "execution_count": null,
      "outputs": [
        {
          "output_type": "stream",
          "name": "stdout",
          "text": [
            "A população de bactérias no dia 10 é de 160000.0\n"
          ]
        }
      ]
    },
    {
      "cell_type": "markdown",
      "source": [
        "# Problema 3:\n",
        "\n",
        "### O problema recebe:\n",
        "\n",
        "$k$: uma constante\n",
        "\n",
        "$P(0) = P_{0}$: população inicial\n",
        "\n",
        "$N$: tempo final\n",
        "\n",
        "$Δt$(no código está deltaT): intervalos de tempo (tamanho deles)\n",
        "\n",
        "$η$(no código está eta): um valor aleatório gerado usando distribuição normal e desvio padrão $σ$(no código é denotado por dv)\n",
        "\n",
        "*tanto eta quanto a população foram \"enfileirados\" em vetores.\n",
        "\n",
        "A função que usei foi:\n",
        "\n",
        "$P(t) = P(0)e^{kt} + η$\n",
        "\n",
        "### No código abaixo fiz um vetor de população que nos diz o número da população em cada instante de tempo t"
      ],
      "metadata": {
        "id": "4MM1U63sCHgh"
      }
    },
    {
      "cell_type": "code",
      "source": [
        "def f(k, p0, t, eta):\n",
        "  return p0*np.exp(k*t) + eta\n",
        "\n",
        "#condições iniciais\n",
        "k = 0.1\n",
        "p0 = 100\n",
        "N = 50\n",
        "deltaT = 0.01\n",
        "t = np.arange(0, N+1, deltaT, dtype=float)\n",
        "dvPadrao = 0.8\n",
        "eta = np.random.normal(0, dvPadrao, t.shape[0])\n",
        "\n",
        "#cálculo das populações com k dado\n",
        "populacoes = f(k, p0, t, eta)"
      ],
      "metadata": {
        "id": "WQVykdtjpZc6"
      },
      "execution_count": null,
      "outputs": []
    },
    {
      "cell_type": "markdown",
      "source": [
        "###Aqui criamos um vetor de constantes com essa cara:\n",
        "\n",
        "$const = \\frac{\\frac{P(t + Δt) - P(t)}{Δt}}{P(t)}$\n",
        "\n",
        "$t$: tempo<br/>\n",
        "$P(t)$: população no instante t<br/>\n",
        "$Δt$: variação de tempo de cada \"amostra\" da quantidade de população\n",
        "\n",
        "Aqui deduzo crescimento exponencial por considerar o comportamento acima.\n",
        "\n",
        "---\n",
        "\n",
        "No código abaixo, $kk$ é a média de todas as constantes calculadas em cada $t$. Após calcular $kk$, repetimos o experimento usando-o ao invés de $k$. Ou seja:\n",
        "\n",
        "$P_{2}(t) = P(0)e^{kk.t} + η$\n",
        "\n",
        "E posterior a isso, checar o quão próximo das soluções \"reais\" com $k$ essa versão usando $kk$ ficou.\n",
        "\n",
        "Calculo os erros absolutos $|P(t) - P_{2}(t)|$ e relativos $|\\frac{P(t) - P_{2}(t)}{P(t)}|$ para todo $t$ avaliado."
      ],
      "metadata": {
        "id": "06WW5WO2phGw"
      }
    },
    {
      "cell_type": "code",
      "source": [
        "constantes = [] #constante = (P(t+deltaT) - P(t) / deltaT) / P(t)\n",
        "kk = 0\n",
        "for i in range(populacoes.shape[0]-1):\n",
        "  constantes.append(((populacoes[i+1] - populacoes[i])/deltaT)/populacoes[i])\n",
        "  kk += constantes[i]\n",
        "\n",
        "#calculo do kk como a média de todos as constantes em cada ponto\n",
        "kk /= len(constantes)\n",
        "\n",
        "#populacoes com kk calculado\n",
        "populacoes2 = f(kk, p0, t, eta)\n",
        "\n",
        "#calculo de erro absoluto: |X - X'| e erro relativo: |X - X' / X|,\n",
        "#onde X = populacoes com k e X' populacoes com kk\n",
        "\n",
        "erros = abs(populacoes - populacoes2) #erro ponto a ponto\n",
        "erroAbs = 0\n",
        "erroRel = 0\n",
        "\n",
        "for i in range(erros.shape[0]):\n",
        "  erroAbs += erros[i]\n",
        "  erroRel += abs(erros[i]/populacoes[i])\n",
        "erroAbs /= erros.shape[0]\n",
        "erroRel /= erros.shape[0]"
      ],
      "metadata": {
        "id": "GyH5_FTeERwf"
      },
      "execution_count": null,
      "outputs": []
    },
    {
      "cell_type": "markdown",
      "source": [
        "Aqui ploto o gráfico das funções com $k$ e $kk$"
      ],
      "metadata": {
        "id": "i-J9Z5xtskX_"
      }
    },
    {
      "cell_type": "code",
      "source": [
        "plt.plot(t, populacoes, color=\"black\")\n",
        "plt.plot(t, populacoes2, color=\"green\")\n",
        "\n",
        "plt.legend([f\"p(t) com k = {round(k, 4)}\", f\"p(t) com kk = {round(kk, 4)}\"])\n",
        "\n",
        "plt.xlabel(\"instante t\")\n",
        "plt.ylabel(\"população\")\n",
        "\n",
        "plt.title(f\"erro abs: {round(erroAbs, 2)} | erro rel: {round(erroRel, 5)} | η = {dvPadrao}\")"
      ],
      "metadata": {
        "colab": {
          "base_uri": "https://localhost:8080/",
          "height": 489
        },
        "id": "SmlkawNTGkqW",
        "outputId": "e2e62051-36b5-43d8-bb99-c0dd0bc93e44"
      },
      "execution_count": null,
      "outputs": [
        {
          "output_type": "execute_result",
          "data": {
            "text/plain": [
              "Text(0.5, 1.0, 'erro abs: 79.32 | erro rel: 0.01528 | η = 0.8')"
            ]
          },
          "metadata": {},
          "execution_count": 52
        },
        {
          "output_type": "display_data",
          "data": {
            "text/plain": [
              "<Figure size 640x480 with 1 Axes>"
            ],
            "image/png": "[encoded data removed]"
          },
          "metadata": {}
        }
      ]
    },
    {
      "cell_type": "markdown",
      "source": [
        "##Analise do erro por desvio padrão\n",
        "\n",
        "Vou gerar uma copia do codigo das populacoes e testar com inumeros desvios para vermos os erros melhor"
      ],
      "metadata": {
        "id": "MIQT9DfUbscB"
      }
    },
    {
      "cell_type": "code",
      "source": [
        "errosAbsolutos = []\n",
        "errosRelativos = []\n",
        "desviosPadroes = np.linspace(0.01, 5, 1000)\n",
        "\n",
        "def determinaP(k, p0, t, dvPadrao):\n",
        "  eta = np.random.normal(0, dvPadrao, t.shape[0])\n",
        "  populacoes = f(k, p0, t, eta)\n",
        "\n",
        "  return populacoes\n",
        "\n",
        "t = np.arange(0, N+1, deltaT, dtype=float)\n",
        "\n",
        "for desvio in desviosPadroes:\n",
        "  populacoes = determinaP(k, p0, t, desvio)\n",
        "\n",
        "  constantes = []\n",
        "  kk = 0\n",
        "\n",
        "  for i in range(populacoes.shape[0]-1):\n",
        "    constantes.append(((populacoes[i+1] - populacoes[i])/deltaT)/populacoes[i])\n",
        "    kk += constantes[i]\n",
        "\n",
        "  #calculo do kk como a média de todos as constantes em cada ponto\n",
        "  kk /= len(constantes)\n",
        "\n",
        "  #populacoes com kk calculado\n",
        "  populacoes2 = determinaP(kk, p0, t, desvio)\n",
        "\n",
        "  erros = abs(populacoes - populacoes2) #erro ponto a ponto\n",
        "  erroAbs = 0\n",
        "  erroRel = 0\n",
        "\n",
        "  for i in range(erros.shape[0]):\n",
        "    erroAbs += erros[i]\n",
        "    erroRel += abs(erros[i]/populacoes[i])\n",
        "  erroAbs /= erros.shape[0]\n",
        "  erroRel /= erros.shape[0]\n",
        "\n",
        "  errosAbsolutos.append(erroAbs)\n",
        "  errosRelativos.append(erroRel)"
      ],
      "metadata": {
        "id": "NRVmJ3w9ROJ8"
      },
      "execution_count": null,
      "outputs": []
    },
    {
      "cell_type": "code",
      "source": [
        "plt.plot(desviosPadroes, errosAbsolutos, color=\"black\")\n",
        "#plt.plot(desviosPadroes, errosRelativos, color=\"green\")\n",
        "\n",
        "#plt.legend([f\"p(t) com k = {round(k, 4)}\", f\"p(t) com kk = {round(kk, 4)}\"])\n",
        "\n",
        "plt.xlabel(\"desvio padrão\")\n",
        "plt.ylabel(\"erro absoluto\")"
      ],
      "metadata": {
        "colab": {
          "base_uri": "https://localhost:8080/",
          "height": 466
        },
        "id": "OHHND_o8b5Wx",
        "outputId": "4b1c4f7e-e16c-4a1a-a5e9-a429dced13cb"
      },
      "execution_count": null,
      "outputs": [
        {
          "output_type": "execute_result",
          "data": {
            "text/plain": [
              "Text(0, 0.5, 'erro absoluto')"
            ]
          },
          "metadata": {},
          "execution_count": 57
        },
        {
          "output_type": "display_data",
          "data": {
            "text/plain": [
              "<Figure size 640x480 with 1 Axes>"
            ],
            "image/png": "[encoded data removed]"
          },
          "metadata": {}
        }
      ]
    },
    {
      "cell_type": "code",
      "source": [
        "plt.plot(desviosPadroes, errosRelativos, color=\"green\")\n",
        "plt.xlabel(\"desvio padrão\")\n",
        "plt.ylabel(\"erro relativo\")"
      ],
      "metadata": {
        "colab": {
          "base_uri": "https://localhost:8080/",
          "height": 466
        },
        "id": "9N-e_8iVdF0A",
        "outputId": "63c81699-329d-41e1-b563-406d51d35e61"
      },
      "execution_count": null,
      "outputs": [
        {
          "output_type": "execute_result",
          "data": {
            "text/plain": [
              "Text(0, 0.5, 'erro relativo')"
            ]
          },
          "metadata": {},
          "execution_count": 58
        },
        {
          "output_type": "display_data",
          "data": {
            "text/plain": [
              "<Figure size 640x480 with 1 Axes>"
            ],
            "image/png": "[encoded data removed]"
          },
          "metadata": {}
        }
      ]
    },
    {
      "cell_type": "markdown",
      "source": [
        "A análise nos indica um comportamento que de certo modo poderíamos esperar. Conforme o desvio padrão aumenta, o erro também aumenta. O erro relativo mostra que a partir 3~4 de desvio temos um erro considerável.\n",
        "\n",
        "O absoluto cresce mais rápido, mas fica mais próximo de zero com valores de desvio < 0.5.\n",
        "\n",
        "Não tenho conhecimento de interpolação suficiente para encontrar um p(x) que descreva esse crescimento de erro, mas a curva se assemelha à própria exponencial usada para o calculo das populações."
      ],
      "metadata": {
        "id": "BJw4FksRgayv"
      }
    }
  ]
}